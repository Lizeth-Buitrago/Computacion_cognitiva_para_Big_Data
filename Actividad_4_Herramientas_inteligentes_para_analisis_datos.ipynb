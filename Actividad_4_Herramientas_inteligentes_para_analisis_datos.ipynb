{
  "nbformat": 4,
  "nbformat_minor": 0,
  "metadata": {
    "colab": {
      "provenance": [],
      "authorship_tag": "ABX9TyM1nRGUXrwGyqXZc4cmM82p",
      "include_colab_link": true
    },
    "kernelspec": {
      "name": "python3",
      "display_name": "Python 3"
    },
    "language_info": {
      "name": "python"
    }
  },
  "cells": [
    {
      "cell_type": "markdown",
      "metadata": {
        "id": "view-in-github",
        "colab_type": "text"
      },
      "source": [
        "<a href=\"https://colab.research.google.com/github/Lizeth-Buitrago/Computacion_cognitiva_para_Big_Data/blob/main/Actividad_4_Herramientas_inteligentes_para_analisis_datos.ipynb\" target=\"_parent\"><img src=\"https://colab.research.google.com/assets/colab-badge.svg\" alt=\"Open In Colab\"/></a>"
      ]
    },
    {
      "cell_type": "code",
      "execution_count": 8,
      "metadata": {
        "id": "S7tcc3cBlE7v"
      },
      "outputs": [],
      "source": [
        "!pip install --quiet newsapi-python"
      ]
    },
    {
      "cell_type": "code",
      "source": [
        "!pip install --quiet --upgrade newsapi-python"
      ],
      "metadata": {
        "id": "4OxEOZtFlQro"
      },
      "execution_count": 9,
      "outputs": []
    },
    {
      "cell_type": "code",
      "source": [
        "from getpass import getpass\n",
        "import os\n",
        "\n",
        "newsapi_key = getpass(\"Pega aquí tu NEWSAPI_KEY: \")\n",
        "os.environ[\"NEWSAPI_KEY\"] = newsapi_key"
      ],
      "metadata": {
        "colab": {
          "base_uri": "https://localhost:8080/"
        },
        "id": "Qa0US9vzlV8I",
        "outputId": "c1880c63-139c-4d51-aa90-29a8b57a0938"
      },
      "execution_count": 10,
      "outputs": [
        {
          "name": "stdout",
          "output_type": "stream",
          "text": [
            "Pega aquí tu NEWSAPI_KEY: ··········\n"
          ]
        }
      ]
    },
    {
      "cell_type": "code",
      "source": [
        "from newsapi import NewsApiClient\n",
        "import os\n",
        "from datetime import datetime, timedelta\n",
        "import json\n",
        "\n",
        "# Inicializar el cliente con tu clave\n",
        "client = NewsApiClient(api_key=os.getenv(\"NEWSAPI_KEY\"))\n",
        "\n",
        "def obtener_noticias_principales(pais: str = 'co',\n",
        "                                  categoria: str = 'technology',\n",
        "                                  num_resultados: int = 5) -> dict:\n",
        "    \"\"\"\n",
        "    Obtiene las noticias principales de un país y categoría específica.\n",
        "    \"\"\"\n",
        "    try:\n",
        "        response = client.get_top_headlines(\n",
        "            country=pais,\n",
        "            category=categoria,\n",
        "            page_size=num_resultados\n",
        "        )\n",
        "        return response\n",
        "    except Exception as e:\n",
        "        return {\"error\": str(e)}\n",
        "\n",
        "def buscar_noticias_por_tema(tema: str,\n",
        "                              dias_atras: int = 7,\n",
        "                              idioma: str = 'es',\n",
        "                              num_resultados: int = 5) -> dict:\n",
        "    \"\"\"\n",
        "    Busca noticias por palabra clave en un rango de fechas.\n",
        "    \"\"\"\n",
        "    try:\n",
        "        fecha_desde = (datetime.now() - timedelta(days=dias_atras)).strftime('%Y-%m-%d')\n",
        "        fecha_hasta = datetime.now().strftime('%Y-%m-%d')\n",
        "\n",
        "        response = client.get_everything(\n",
        "            q=tema,\n",
        "            language=idioma,\n",
        "            from_param=fecha_desde,\n",
        "            to=fecha_hasta,\n",
        "            sort_by='relevancy',\n",
        "            page_size=num_resultados\n",
        "        )\n",
        "        return response\n",
        "    except Exception as e:\n",
        "        return {\"error\": str(e)}\n",
        "\n",
        "def obtener_fuentes_disponibles(pais: str = 'co',\n",
        "                                 idioma: str = 'es') -> dict:\n",
        "    \"\"\"\n",
        "    Obtiene las fuentes de noticias disponibles.\n",
        "    \"\"\"\n",
        "    try:\n",
        "        response = client.get_sources(\n",
        "            country=pais,\n",
        "            language=idioma\n",
        "        )\n",
        "        return response\n",
        "    except Exception as e:\n",
        "        return {\"error\": str(e)}\n"
      ],
      "metadata": {
        "id": "25RDNW7_lhvm"
      },
      "execution_count": 12,
      "outputs": []
    },
    {
      "cell_type": "code",
      "source": [
        "if __name__ == \"__main__\":\n",
        "    print(\"=\"*60)\n",
        "    print(\"PRUEBA 1: NOTICIAS PRINCIPALES DE TECNOLOGÍA\")\n",
        "    print(\"=\"*60)\n",
        "\n",
        "    noticias = obtener_noticias_principales(pais='co', categoria='technology', num_resultados=5)\n",
        "\n",
        "    if 'error' not in noticias:\n",
        "        print(f\"\\n✓ Total de noticias encontradas: {noticias['totalResults']}\")\n",
        "        print(\"\\n--- TITULARES ---\\n\")\n",
        "\n",
        "        for idx, article in enumerate(noticias['articles'], 1):\n",
        "            print(f\"{idx}. {article['title']}\")\n",
        "            print(f\"   Fuente: {article['source']['name']}\")\n",
        "            print(f\"   Fecha: {article['publishedAt']}\")\n",
        "            print(f\"   URL: {article['url']}\")\n",
        "            if article['description']:\n",
        "                print(f\"   Descripción: {article['description'][:100]}...\")\n",
        "            print(\"-\"*60)\n",
        "    else:\n",
        "        print(f\"❌ Error: {noticias['error']}\")\n"
      ],
      "metadata": {
        "colab": {
          "base_uri": "https://localhost:8080/"
        },
        "id": "BQeK3l9vlkWv",
        "outputId": "3c59a0ec-c5cc-4086-c097-7dcaf3469f46"
      },
      "execution_count": 20,
      "outputs": [
        {
          "output_type": "stream",
          "name": "stdout",
          "text": [
            "============================================================\n",
            "PRUEBA 1: NOTICIAS PRINCIPALES DE TECNOLOGÍA\n",
            "============================================================\n",
            "\n",
            "✓ Total de noticias encontradas: 0\n",
            "\n",
            "--- TITULARES ---\n",
            "\n"
          ]
        }
      ]
    },
    {
      "cell_type": "code",
      "source": [
        "print(\"\\n\" + \"=\"*60)\n",
        "print(\"PRUEBA 2: BÚSQUEDA DE NOTICIAS - INTELIGENCIA ARTIFICIAL\")\n",
        "print(\"=\"*60)\n",
        "\n",
        "busqueda = buscar_noticias_por_tema(\n",
        "    tema='inteligencia artificial',\n",
        "    dias_atras=7,\n",
        "    idioma='es',\n",
        "    num_resultados=5\n",
        ")\n",
        "\n",
        "if 'error' not in busqueda:\n",
        "    print(f\"\\n✓ Total de noticias encontradas: {busqueda['totalResults']}\")\n",
        "    print(\"\\n--- RESULTADOS DE BÚSQUEDA ---\\n\")\n",
        "\n",
        "    for idx, article in enumerate(busqueda['articles'], 1):\n",
        "        print(f\"{idx}. {article['title']}\")\n",
        "        print(f\"   Fuente: {article['source']['name']}\")\n",
        "        print(f\"   Fecha: {article['publishedAt']}\")\n",
        "        print(f\"   URL: {article['url']}\")\n",
        "        print(\"-\"*60)\n",
        "else:\n",
        "    print(f\"❌ Error: {busqueda['error']}\")\n"
      ],
      "metadata": {
        "colab": {
          "base_uri": "https://localhost:8080/"
        },
        "id": "58ufv9w1lreq",
        "outputId": "4323fb46-db06-428e-a626-7a9a58b8d1c8"
      },
      "execution_count": 14,
      "outputs": [
        {
          "output_type": "stream",
          "name": "stdout",
          "text": [
            "\n",
            "============================================================\n",
            "PRUEBA 2: BÚSQUEDA DE NOTICIAS - INTELIGENCIA ARTIFICIAL\n",
            "============================================================\n",
            "\n",
            "✓ Total de noticias encontradas: 1453\n",
            "\n",
            "--- RESULTADOS DE BÚSQUEDA ---\n",
            "\n",
            "1. Se acabó reciclar: han inventado un cubo de basura que lo hace solo (ahora quieres uno)\n",
            "   Fuente: Hipertextual\n",
            "   Fecha: 2025-09-29T11:42:16Z\n",
            "   URL: https://hipertextual.com/tecnologia/se-acabo-reciclar-han-inventado-un-cubo-de-basura-que-lo-hace-solo-ahora-quieres-uno/\n",
            "------------------------------------------------------------\n",
            "2. 14 vídeos hechos con Sora 2 (ChatGPT) que te van a volar la cabeza\n",
            "   Fuente: Hipertextual\n",
            "   Fecha: 2025-10-01T08:31:20Z\n",
            "   URL: https://hipertextual.com/tecnologia/14-videos-hechos-con-sora-2-chatgpt-que-te-van-a-volar-la-cabeza/\n",
            "------------------------------------------------------------\n",
            "3. Revolución en Google Home: Gemini llega hoy a tu casa y prepárate para pagar una nueva suscripción\n",
            "   Fuente: Hipertextual\n",
            "   Fecha: 2025-10-01T13:03:16Z\n",
            "   URL: https://hipertextual.com/tecnologia/google-home-gemini-suscripcion/\n",
            "------------------------------------------------------------\n",
            "4. ¿Problemas con el nuevo Windows 11 25H2? Así puedes resolverlos\n",
            "   Fuente: Hipertextual\n",
            "   Fecha: 2025-10-01T20:28:00Z\n",
            "   URL: https://hipertextual.com/software/problemas-con-windows-11-25h2-asi-puedes-resolverlos/\n",
            "------------------------------------------------------------\n",
            "5. Quién es Tilly Norwood, la primera actriz generada por IA que Hollywood se rifa y que se convertirá en «la nueva Scarlett Johansson»\n",
            "   Fuente: Hipertextual\n",
            "   Fecha: 2025-09-29T09:35:02Z\n",
            "   URL: https://hipertextual.com/cine-television/quien-es-tilly-norwood-la-primera-actriz-generada-por-ia/\n",
            "------------------------------------------------------------\n"
          ]
        }
      ]
    },
    {
      "cell_type": "code",
      "source": [
        "print(\"\\n\" + \"=\"*60)\n",
        "print(\"PRUEBA 3: FUENTES DE NOTICIAS DISPONIBLES\")\n",
        "print(\"=\"*60)\n",
        "\n",
        "fuentes = obtener_fuentes_disponibles(pais='co', idioma='es')\n",
        "\n",
        "if 'error' not in fuentes:\n",
        "    print(f\"\\n✓ Total de fuentes disponibles: {len(fuentes['sources'])}\")\n",
        "    print(\"\\n--- FUENTES ---\\n\")\n",
        "\n",
        "    for idx, source in enumerate(fuentes['sources'][:10], 1):\n",
        "        print(f\"{idx}. {source['name']}\")\n",
        "        print(f\"   Descripción: {source['description']}\")\n",
        "        print(f\"   Categoría: {source['category']}\")\n",
        "        print(f\"   URL: {source['url']}\")\n",
        "        print(\"-\"*60)\n",
        "else:\n",
        "    print(f\"❌ Error: {fuentes['error']}\")"
      ],
      "metadata": {
        "colab": {
          "base_uri": "https://localhost:8080/"
        },
        "id": "f-8gTShcnV_h",
        "outputId": "c6bdfeac-56d5-4fb2-9f6c-662161b8c2c7"
      },
      "execution_count": 15,
      "outputs": [
        {
          "output_type": "stream",
          "name": "stdout",
          "text": [
            "\n",
            "============================================================\n",
            "PRUEBA 3: FUENTES DE NOTICIAS DISPONIBLES\n",
            "============================================================\n",
            "\n",
            "✓ Total de fuentes disponibles: 0\n",
            "\n",
            "--- FUENTES ---\n",
            "\n"
          ]
        }
      ]
    },
    {
      "cell_type": "code",
      "source": [
        "print(\"\\n\" + \"=\"*60)\n",
        "print(\"PRUEBA 4: ANÁLISIS DE PALABRAS FRECUENTES EN TITULARES\")\n",
        "print(\"=\"*60)\n",
        "\n",
        "# Obtener más noticias para análisis\n",
        "noticias_analisis = obtener_noticias_principales(pais='co', categoria='technology', num_resultados=50)\n",
        "\n",
        "if 'error' not in noticias_analisis:\n",
        "    palabras_frecuentes = {}\n",
        "\n",
        "    for article in noticias_analisis['articles']:\n",
        "        if article['title']:\n",
        "            titulo = article['title'].lower()\n",
        "            # Limpiar y dividir en palabras\n",
        "            palabras = titulo.replace(',', '').replace('.', '').split()\n",
        "\n",
        "            for palabra in palabras:\n",
        "                if len(palabra) > 4:  # Solo palabras con más de 4 letras\n",
        "                    palabras_frecuentes[palabra] = palabras_frecuentes.get(palabra, 0) + 1\n",
        "\n",
        "    # Ordenar por frecuencia\n",
        "    top_palabras = sorted(palabras_frecuentes.items(), key=lambda x: x[1], reverse=True)[:15]\n",
        "\n",
        "    print(\"\\n--- TOP 15 PALABRAS MÁS FRECUENTES ---\\n\")\n",
        "    for idx, (palabra, freq) in enumerate(top_palabras, 1):\n",
        "        print(f\"{idx}. '{palabra}': {freq} veces\")\n",
        "else:\n",
        "    print(f\"❌ Error: {noticias_analisis['error']}\")\n"
      ],
      "metadata": {
        "colab": {
          "base_uri": "https://localhost:8080/"
        },
        "id": "HOFhObOHndcB",
        "outputId": "a45b23f7-1671-401d-976c-8b346cdc5906"
      },
      "execution_count": 16,
      "outputs": [
        {
          "output_type": "stream",
          "name": "stdout",
          "text": [
            "\n",
            "============================================================\n",
            "PRUEBA 4: ANÁLISIS DE PALABRAS FRECUENTES EN TITULARES\n",
            "============================================================\n",
            "\n",
            "--- TOP 15 PALABRAS MÁS FRECUENTES ---\n",
            "\n"
          ]
        }
      ]
    },
    {
      "cell_type": "code",
      "source": [
        "print(\"\\n\" + \"=\"*60)\n",
        "print(\"GUARDANDO RESULTADOS EN ARCHIVO JSON\")\n",
        "print(\"=\"*60)\n",
        "\n",
        "resultados_finales = {\n",
        "    'fecha_consulta': datetime.now().strftime('%Y-%m-%d %H:%M:%S'),\n",
        "    'configuracion': {\n",
        "        'pais': 'Colombia',\n",
        "        'idioma': 'español',\n",
        "        'categorias': ['technology', 'business', 'science']\n",
        "    },\n",
        "    'noticias_principales': [\n",
        "        {\n",
        "            'titulo': article['title'],\n",
        "            'fuente': article['source']['name'],\n",
        "            'fecha': article['publishedAt'],\n",
        "            'url': article['url'],\n",
        "            'descripcion': article['description']\n",
        "        }\n",
        "        for article in noticias['articles'][:5]\n",
        "    ] if 'error' not in noticias else [],\n",
        "    'busqueda_ia': [\n",
        "        {\n",
        "            'titulo': article['title'],\n",
        "            'fuente': article['source']['name'],\n",
        "            'fecha': article['publishedAt'],\n",
        "            'url': article['url']\n",
        "        }\n",
        "        for article in busqueda['articles'][:5]\n",
        "    ] if 'error' not in busqueda else [],\n",
        "    'estadisticas': {\n",
        "        'total_noticias_principales': noticias.get('totalResults', 0) if 'error' not in noticias else 0,\n",
        "        'total_busqueda': busqueda.get('totalResults', 0) if 'error' not in busqueda else 0,\n",
        "        'fuentes_disponibles': len(fuentes.get('sources', [])) if 'error' not in fuentes else 0\n",
        "    }\n",
        "}\n",
        "\n",
        "with open('resultados_newsapi.json', 'w', encoding='utf-8') as f:\n",
        "    json.dump(resultados_finales, f, ensure_ascii=False, indent=2)\n",
        "\n",
        "print(\"\\n✓ Resultados guardados exitosamente en 'resultados_newsapi.json'\")\n",
        "print(\"\\n\" + \"=\"*60)\n",
        "print(\"✓ TODAS LAS PRUEBAS COMPLETADAS\")\n",
        "print(\"=\"*60)"
      ],
      "metadata": {
        "colab": {
          "base_uri": "https://localhost:8080/"
        },
        "id": "q04oXDhEnkN7",
        "outputId": "c45714ae-cf90-4fa7-9867-c53d60114e70"
      },
      "execution_count": 17,
      "outputs": [
        {
          "output_type": "stream",
          "name": "stdout",
          "text": [
            "\n",
            "============================================================\n",
            "GUARDANDO RESULTADOS EN ARCHIVO JSON\n",
            "============================================================\n",
            "\n",
            "✓ Resultados guardados exitosamente en 'resultados_newsapi.json'\n",
            "\n",
            "============================================================\n",
            "✓ TODAS LAS PRUEBAS COMPLETADAS\n",
            "============================================================\n"
          ]
        }
      ]
    },
    {
      "cell_type": "code",
      "source": [
        "print(\"\\n\" + \"=\"*60)\n",
        "print(\"MODO INTERACTIVO - BÚSQUEDA DE NOTICIAS\")\n",
        "print(\"=\"*60)\n",
        "print(\"Escribe 'salir' para terminar\\n\")\n",
        "\n",
        "while True:\n",
        "    tema_busqueda = input(\"¿Qué tema deseas buscar?: \")\n",
        "\n",
        "    if tema_busqueda.lower() in ['salir', 'exit', 'quit']:\n",
        "        print(\"\\n👋 ¡Hasta pronto!\")\n",
        "        break\n",
        "\n",
        "    if tema_busqueda.strip():\n",
        "        print(f\"\\n🔍 Buscando noticias sobre: '{tema_busqueda}'...\\n\")\n",
        "\n",
        "        resultados = buscar_noticias_por_tema(\n",
        "            tema=tema_busqueda,\n",
        "            dias_atras=7,\n",
        "            idioma='es',\n",
        "            num_resultados=3\n",
        "        )\n",
        "\n",
        "        if 'error' not in resultados and resultados['articles']:\n",
        "            print(f\"✓ Se encontraron {resultados['totalResults']} noticias\\n\")\n",
        "\n",
        "            for idx, article in enumerate(resultados['articles'][:3], 1):\n",
        "                print(f\"{idx}. {article['title']}\")\n",
        "                print(f\"   📰 {article['source']['name']}\")\n",
        "                print(f\"   📅 {article['publishedAt']}\")\n",
        "                print(f\"   🔗 {article['url']}\\n\")\n",
        "        else:\n",
        "            print(\"❌ No se encontraron noticias o ocurrió un error\\n\")\n",
        "    else:\n",
        "        print(\"⚠️ Por favor ingresa un tema válido\\n\")"
      ],
      "metadata": {
        "colab": {
          "base_uri": "https://localhost:8080/",
          "height": 1000
        },
        "id": "atR3qOMinxez",
        "outputId": "e4e61bd6-884c-4318-99a3-ecdeafdfa2fd"
      },
      "execution_count": 18,
      "outputs": [
        {
          "output_type": "stream",
          "name": "stdout",
          "text": [
            "\n",
            "============================================================\n",
            "MODO INTERACTIVO - BÚSQUEDA DE NOTICIAS\n",
            "============================================================\n",
            "Escribe 'salir' para terminar\n",
            "\n",
            "¿Qué tema deseas buscar?: AI\n",
            "\n",
            "🔍 Buscando noticias sobre: 'AI'...\n",
            "\n",
            "✓ Se encontraron 295 noticias\n",
            "\n",
            "1. El nuevo AI Mode de Google estrena una función que hará temblar a ChatGPT\n",
            "   📰 Hipertextual\n",
            "   📅 2025-09-30T17:50:00Z\n",
            "   🔗 https://hipertextual.com/inteligencia-artificial/ai-mode-busqueda-visual-imagenes/\n",
            "\n",
            "2. Nuevo drama para tu privacidad si usas WhatsApp, Instagram y Facebook: Meta AI leerá tus conversaciones (sí o sí)\n",
            "   📰 Hipertextual\n",
            "   📅 2025-10-02T09:45:22Z\n",
            "   🔗 https://hipertextual.com/tecnologia/nuevo-drama-para-tu-privacidad-si-usas-whatsapp-instagram-y-facebook-meta-ai-leera-tus-conversaciones-si-o-si/\n",
            "\n",
            "3. El buscador de Google añadirá una de las funciones más locas de Gemini\n",
            "   📰 Hipertextual\n",
            "   📅 2025-10-01T23:29:53Z\n",
            "   🔗 https://hipertextual.com/inteligencia-artificial/buscador-google-nano-banana-ai-mode-gemini/\n",
            "\n",
            "¿Qué tema deseas buscar?: Nexa\n",
            "\n",
            "🔍 Buscando noticias sobre: 'Nexa'...\n",
            "\n",
            "✓ Se encontraron 1 noticias\n",
            "\n",
            "1. Repsol y Alsa firman un acuerdo estratégico para impulsar soluciones energéticas\n",
            "   📰 Eleconomista.es\n",
            "   📅 2025-10-02T14:35:06Z\n",
            "   🔗 https://www.eleconomista.es/energia/noticias/13574791/10/25/repsol-y-alsa-firman-un-acuerdo-estrategico-para-impulsar-soluciones-energeticas.html\n",
            "\n",
            "¿Qué tema deseas buscar?: NEXA BPO\n",
            "\n",
            "🔍 Buscando noticias sobre: 'NEXA BPO'...\n",
            "\n",
            "❌ No se encontraron noticias o ocurrió un error\n",
            "\n"
          ]
        },
        {
          "output_type": "error",
          "ename": "KeyboardInterrupt",
          "evalue": "Interrupted by user",
          "traceback": [
            "\u001b[0;31m---------------------------------------------------------------------------\u001b[0m",
            "\u001b[0;31mKeyboardInterrupt\u001b[0m                         Traceback (most recent call last)",
            "\u001b[0;32m/tmp/ipython-input-108742270.py\u001b[0m in \u001b[0;36m<cell line: 0>\u001b[0;34m()\u001b[0m\n\u001b[1;32m      5\u001b[0m \u001b[0;34m\u001b[0m\u001b[0m\n\u001b[1;32m      6\u001b[0m \u001b[0;32mwhile\u001b[0m \u001b[0;32mTrue\u001b[0m\u001b[0;34m:\u001b[0m\u001b[0;34m\u001b[0m\u001b[0;34m\u001b[0m\u001b[0m\n\u001b[0;32m----> 7\u001b[0;31m     \u001b[0mtema_busqueda\u001b[0m \u001b[0;34m=\u001b[0m \u001b[0minput\u001b[0m\u001b[0;34m(\u001b[0m\u001b[0;34m\"¿Qué tema deseas buscar?: \"\u001b[0m\u001b[0;34m)\u001b[0m\u001b[0;34m\u001b[0m\u001b[0;34m\u001b[0m\u001b[0m\n\u001b[0m\u001b[1;32m      8\u001b[0m \u001b[0;34m\u001b[0m\u001b[0m\n\u001b[1;32m      9\u001b[0m     \u001b[0;32mif\u001b[0m \u001b[0mtema_busqueda\u001b[0m\u001b[0;34m.\u001b[0m\u001b[0mlower\u001b[0m\u001b[0;34m(\u001b[0m\u001b[0;34m)\u001b[0m \u001b[0;32min\u001b[0m \u001b[0;34m[\u001b[0m\u001b[0;34m'salir'\u001b[0m\u001b[0;34m,\u001b[0m \u001b[0;34m'exit'\u001b[0m\u001b[0;34m,\u001b[0m \u001b[0;34m'quit'\u001b[0m\u001b[0;34m]\u001b[0m\u001b[0;34m:\u001b[0m\u001b[0;34m\u001b[0m\u001b[0;34m\u001b[0m\u001b[0m\n",
            "\u001b[0;32m/usr/local/lib/python3.12/dist-packages/ipykernel/kernelbase.py\u001b[0m in \u001b[0;36mraw_input\u001b[0;34m(self, prompt)\u001b[0m\n\u001b[1;32m   1175\u001b[0m                 \u001b[0;34m\"raw_input was called, but this frontend does not support input requests.\"\u001b[0m\u001b[0;34m\u001b[0m\u001b[0;34m\u001b[0m\u001b[0m\n\u001b[1;32m   1176\u001b[0m             )\n\u001b[0;32m-> 1177\u001b[0;31m         return self._input_request(\n\u001b[0m\u001b[1;32m   1178\u001b[0m             \u001b[0mstr\u001b[0m\u001b[0;34m(\u001b[0m\u001b[0mprompt\u001b[0m\u001b[0;34m)\u001b[0m\u001b[0;34m,\u001b[0m\u001b[0;34m\u001b[0m\u001b[0;34m\u001b[0m\u001b[0m\n\u001b[1;32m   1179\u001b[0m             \u001b[0mself\u001b[0m\u001b[0;34m.\u001b[0m\u001b[0m_parent_ident\u001b[0m\u001b[0;34m[\u001b[0m\u001b[0;34m\"shell\"\u001b[0m\u001b[0;34m]\u001b[0m\u001b[0;34m,\u001b[0m\u001b[0;34m\u001b[0m\u001b[0;34m\u001b[0m\u001b[0m\n",
            "\u001b[0;32m/usr/local/lib/python3.12/dist-packages/ipykernel/kernelbase.py\u001b[0m in \u001b[0;36m_input_request\u001b[0;34m(self, prompt, ident, parent, password)\u001b[0m\n\u001b[1;32m   1217\u001b[0m             \u001b[0;32mexcept\u001b[0m \u001b[0mKeyboardInterrupt\u001b[0m\u001b[0;34m:\u001b[0m\u001b[0;34m\u001b[0m\u001b[0;34m\u001b[0m\u001b[0m\n\u001b[1;32m   1218\u001b[0m                 \u001b[0;31m# re-raise KeyboardInterrupt, to truncate traceback\u001b[0m\u001b[0;34m\u001b[0m\u001b[0;34m\u001b[0m\u001b[0m\n\u001b[0;32m-> 1219\u001b[0;31m                 \u001b[0;32mraise\u001b[0m \u001b[0mKeyboardInterrupt\u001b[0m\u001b[0;34m(\u001b[0m\u001b[0;34m\"Interrupted by user\"\u001b[0m\u001b[0;34m)\u001b[0m \u001b[0;32mfrom\u001b[0m \u001b[0;32mNone\u001b[0m\u001b[0;34m\u001b[0m\u001b[0;34m\u001b[0m\u001b[0m\n\u001b[0m\u001b[1;32m   1220\u001b[0m             \u001b[0;32mexcept\u001b[0m \u001b[0mException\u001b[0m\u001b[0;34m:\u001b[0m\u001b[0;34m\u001b[0m\u001b[0;34m\u001b[0m\u001b[0m\n\u001b[1;32m   1221\u001b[0m                 \u001b[0mself\u001b[0m\u001b[0;34m.\u001b[0m\u001b[0mlog\u001b[0m\u001b[0;34m.\u001b[0m\u001b[0mwarning\u001b[0m\u001b[0;34m(\u001b[0m\u001b[0;34m\"Invalid Message:\"\u001b[0m\u001b[0;34m,\u001b[0m \u001b[0mexc_info\u001b[0m\u001b[0;34m=\u001b[0m\u001b[0;32mTrue\u001b[0m\u001b[0;34m)\u001b[0m\u001b[0;34m\u001b[0m\u001b[0;34m\u001b[0m\u001b[0m\n",
            "\u001b[0;31mKeyboardInterrupt\u001b[0m: Interrupted by user"
          ]
        }
      ]
    },
    {
      "cell_type": "code",
      "source": [],
      "metadata": {
        "id": "bLNwoH__n3WT"
      },
      "execution_count": null,
      "outputs": []
    }
  ]
}